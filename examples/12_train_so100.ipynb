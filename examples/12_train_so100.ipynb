{
 "cells": [
  {
   "cell_type": "code",
   "execution_count": null,
   "metadata": {},
   "outputs": [],
   "source": [
    "# install miniconda\n",
    "!mkdir -p ~/miniconda3\n",
    "!wget https://repo.anaconda.com/miniconda/Miniconda3-latest-Linux-x86_64.sh -O ~/miniconda3/miniconda.sh\n",
    "!bash ~/miniconda3/miniconda.sh -b -u -p ~/miniconda3\n",
    "!rm ~/miniconda3/miniconda.sh\n",
    "!~/miniconda3/bin/conda init bash"
   ]
  },
  {
   "cell_type": "code",
   "execution_count": null,
   "metadata": {},
   "outputs": [],
   "source": [
    "!conda create -y -n lerobot python=3.10\n",
    "!conda activate lerobot\n",
    "!pip install --upgrade pip\n",
    "!pip install -e \".[feetech]\""
   ]
  },
  {
   "cell_type": "code",
   "execution_count": null,
   "metadata": {},
   "outputs": [],
   "source": [
    "HUGGINGFACE_TOKEN = \"??\""
   ]
  },
  {
   "cell_type": "code",
   "execution_count": 13,
   "metadata": {},
   "outputs": [
    {
     "name": "stdout",
     "output_type": "stream",
     "text": [
      "Token is valid (permission: write).\n",
      "The token `lerobot` has been saved to /Users/maximilienroberti/.cache/huggingface/stored_tokens\n",
      "Your token has been saved in your configured git credential helpers (osxkeychain).\n",
      "Your token has been saved to /Users/maximilienroberti/.cache/huggingface/token\n",
      "Login successful.\n",
      "The current active token is: `lerobot`\n",
      "\n"
     ]
    }
   ],
   "source": [
    "!huggingface-cli login --token {HUGGINGFACE_TOKEN} --add-to-git-credential\n",
    "!HF_USER=$(huggingface-cli whoami | head -n 1)\n",
    "!echo $HF_USER"
   ]
  },
  {
   "cell_type": "code",
   "execution_count": null,
   "metadata": {},
   "outputs": [
    {
     "name": "stdout",
     "output_type": "stream",
     "text": [
      "INFO 2024-12-05 17:42:01 ts/train.py:244 {'dataset_repo_id': '/so100_test',\n",
      " 'device': 'mps',\n",
      " 'env': {'action_dim': 6,\n",
      "         'fps': '${fps}',\n",
      "         'name': 'real_world',\n",
      "         'state_dim': 6,\n",
      "         'task': None},\n",
      " 'eval': {'batch_size': 50, 'n_episodes': 50, 'use_async_envs': False},\n",
      " 'fps': 30,\n",
      " 'override_dataset_stats': {'observation.images.cam_left': {'mean': [[[0.485]],\n",
      "                                                                     [[0.456]],\n",
      "                                                                     [[0.406]]],\n",
      "                                                            'std': [[[0.229]],\n",
      "                                                                    [[0.224]],\n",
      "                                                                    [[0.225]]]},\n",
      "                            'observation.images.cam_middle': {'mean': [[[0.485]],\n",
      "                                                                       [[0.456]],\n",
      "                                                                       [[0.406]]],\n",
      "                                                              'std': [[[0.229]],\n",
      "                                                                      [[0.224]],\n",
      "                                                                      [[0.225]]]},\n",
      "                            'observation.images.cam_right': {'mean': [[[0.485]],\n",
      "                                                                      [[0.456]],\n",
      "                                                                      [[0.406]]],\n",
      "                                                             'std': [[[0.229]],\n",
      "                                                                     [[0.224]],\n",
      "                                                                     [[0.225]]]}},\n",
      " 'policy': {'chunk_size': 100,\n",
      "            'dim_feedforward': 3200,\n",
      "            'dim_model': 512,\n",
      "            'dropout': 0.1,\n",
      "            'feedforward_activation': 'relu',\n",
      "            'input_normalization_modes': {'observation.images.cam_left': 'mean_std',\n",
      "                                          'observation.images.cam_middle': 'mean_std',\n",
      "                                          'observation.images.cam_right': 'mean_std',\n",
      "                                          'observation.state': 'mean_std'},\n",
      "            'input_shapes': {'observation.images.cam_left': [3, 480, 640],\n",
      "                             'observation.images.cam_middle': [3, 480, 640],\n",
      "                             'observation.images.cam_right': [3, 480, 640],\n",
      "                             'observation.state': ['${env.state_dim}']},\n",
      "            'kl_weight': 10.0,\n",
      "            'latent_dim': 32,\n",
      "            'n_action_steps': 100,\n",
      "            'n_decoder_layers': 1,\n",
      "            'n_encoder_layers': 4,\n",
      "            'n_heads': 8,\n",
      "            'n_obs_steps': 1,\n",
      "            'n_vae_encoder_layers': 4,\n",
      "            'name': 'act',\n",
      "            'output_normalization_modes': {'action': 'mean_std'},\n",
      "            'output_shapes': {'action': ['${env.action_dim}']},\n",
      "            'pre_norm': False,\n",
      "            'pretrained_backbone_weights': 'ResNet18_Weights.IMAGENET1K_V1',\n",
      "            'replace_final_stride_with_dilation': False,\n",
      "            'temporal_ensemble_coeff': None,\n",
      "            'use_vae': True,\n",
      "            'vision_backbone': 'resnet18'},\n",
      " 'resume': False,\n",
      " 'seed': 1000,\n",
      " 'training': {'batch_size': 8,\n",
      "              'delta_timestamps': {'action': '[i / ${fps} for i in '\n",
      "                                             'range(${policy.chunk_size})]'},\n",
      "              'do_online_rollout_async': False,\n",
      "              'eval_freq': -1,\n",
      "              'grad_clip_norm': 10,\n",
      "              'image_transforms': {'brightness': {'min_max': [0.8, 1.2],\n",
      "                                                  'weight': 1},\n",
      "                                   'contrast': {'min_max': [0.8, 1.2],\n",
      "                                                'weight': 1},\n",
      "                                   'enable': False,\n",
      "                                   'hue': {'min_max': [-0.05, 0.05],\n",
      "                                           'weight': 1},\n",
      "                                   'max_num_transforms': 3,\n",
      "                                   'random_order': False,\n",
      "                                   'saturation': {'min_max': [0.5, 1.5],\n",
      "                                                  'weight': 1},\n",
      "                                   'sharpness': {'min_max': [0.8, 1.2],\n",
      "                                                 'weight': 1}},\n",
      "              'log_freq': 100,\n",
      "              'lr': 1e-05,\n",
      "              'lr_backbone': 1e-05,\n",
      "              'num_workers': 4,\n",
      "              'offline_steps': 80000,\n",
      "              'online_buffer_capacity': None,\n",
      "              'online_buffer_seed_size': 0,\n",
      "              'online_env_seed': None,\n",
      "              'online_rollout_batch_size': 1,\n",
      "              'online_rollout_n_episodes': 1,\n",
      "              'online_sampling_ratio': 0.5,\n",
      "              'online_steps': 0,\n",
      "              'online_steps_between_rollouts': 1,\n",
      "              'save_checkpoint': True,\n",
      "              'save_freq': 4000,\n",
      "              'weight_decay': 0.0001},\n",
      " 'use_amp': False,\n",
      " 'video_backend': 'pyav',\n",
      " 'wandb': {'disable_artifact': False,\n",
      "           'enable': False,\n",
      "           'notes': '',\n",
      "           'project': 'lerobot'}}\n",
      "INFO 2024-12-05 17:42:01 n/logger.py:106 \u001b[1m\u001b[33mLogs will be saved locally.\u001b[0m\n",
      "INFO 2024-12-05 17:42:01 ts/train.py:312 make_dataset\n",
      "WARNING 2024-12-05 17:42:01 s/factory.py:68 There might be a mismatch between your training dataset (dataset_repo_id='/so100_test') and your environment (cfg.env.name='real_world').\n",
      "Error executing job with overrides: ['dataset_repo_id=/so100_test', 'policy=act_so100_real', 'env=so100_real', 'device=mps', 'wandb.enable=false']\n",
      "Traceback (most recent call last):\n",
      "  File \"/Users/maximilienroberti/Documents/lerobot_fork/lerobot/examples/../lerobot/scripts/train.py\", line 652, in train_cli\n",
      "    train(\n",
      "  File \"/Users/maximilienroberti/Documents/lerobot_fork/lerobot/examples/../lerobot/scripts/train.py\", line 313, in train\n",
      "    offline_dataset = make_dataset(cfg)\n",
      "  File \"/Users/maximilienroberti/Documents/lerobot_so_arm/lerobot/lerobot/common/datasets/factory.py\", line 95, in make_dataset\n",
      "    dataset = LeRobotDataset(\n",
      "  File \"/Users/maximilienroberti/Documents/lerobot_so_arm/lerobot/lerobot/common/datasets/lerobot_dataset.py\", line 443, in __init__\n",
      "    self.root.mkdir(exist_ok=True, parents=True)\n",
      "  File \"/Users/maximilienroberti/opt/miniconda3/envs/lerobot/lib/python3.10/pathlib.py\", line 1175, in mkdir\n",
      "    self._accessor.mkdir(self, mode)\n",
      "OSError: [Errno 30] Read-only file system: '/so100_test'\n",
      "\n",
      "Set the environment variable HYDRA_FULL_ERROR=1 for a complete stack trace.\n"
     ]
    }
   ],
   "source": [
    "!python lerobot/scripts/train.py \\\n",
    "  dataset_repo_id=${HF_USER}/so100_test \\\n",
    "  policy=act_so100_real \\\n",
    "  env=so100_real \\\n",
    "  hydra.run.dir=outputs/train/act_so100_test \\\n",
    "  hydra.job.name=act_so100_test \\\n",
    "  device=mps \\\n",
    "  wandb.enable=false"
   ]
  }
 ],
 "metadata": {
  "kernelspec": {
   "display_name": "lerobot",
   "language": "python",
   "name": "python3"
  },
  "language_info": {
   "codemirror_mode": {
    "name": "ipython",
    "version": 3
   },
   "file_extension": ".py",
   "mimetype": "text/x-python",
   "name": "python",
   "nbconvert_exporter": "python",
   "pygments_lexer": "ipython3",
   "version": "3.10.15"
  }
 },
 "nbformat": 4,
 "nbformat_minor": 2
}
